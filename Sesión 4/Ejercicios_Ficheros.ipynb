{
 "cells": [
  {
   "cell_type": "markdown",
   "metadata": {
    "id": "fb-ysZHW9FJe"
   },
   "source": [
    "## **S4 Ejercicios: Ficheros**"
   ]
  },
  {
   "cell_type": "markdown",
   "metadata": {
    "id": "g69vJjNU9Sqr"
   },
   "source": [
    "# Ejercicio 1"
   ]
  },
  {
   "cell_type": "markdown",
   "metadata": {
    "id": "lsr9OJW0VKTD"
   },
   "source": [
    "Escribir una función que pida un número entero entre 1 y 10, lea el fichero tabla-n.txt con la tabla de multiplicar de ese número, donde n es el número introducido, y la muestre por pantalla. Si el fichero no existe debe mostrar un mensaje por pantalla informando de ello."
   ]
  },
  {
   "cell_type": "code",
   "execution_count": null,
   "metadata": {
    "id": "h2oS_5m2U4VP"
   },
   "outputs": [],
   "source": [
    "def readFile(path):\n",
    "    pass\n",
    "\n",
    "\n",
    "def process():\n",
    "    \n",
    "    number = int(input(\"Ingrese un número entero entre 1 y 10\"))\n",
    "    name = \"tabla-.txt\""
   ]
  },
  {
   "cell_type": "code",
   "execution_count": null,
   "metadata": {},
   "outputs": [],
   "source": [
    "if __name__ == \"__main__\":\n",
    "    pass\n",
    "    #     process()"
   ]
  },
  {
   "cell_type": "markdown",
   "metadata": {
    "id": "fUb2FEH29V7D"
   },
   "source": [
    "# Ejercicio 2"
   ]
  },
  {
   "cell_type": "markdown",
   "metadata": {
    "id": "NM_IyjU2VMnT"
   },
   "source": [
    "Escribir un programa para gestionar un listín telefónico con los nombres y los teléfonos de los clientes de una empresa. \n",
    "El programa incorporará las siguientes funciones: Crear el fichero con el listín si no existe, consultar el teléfono de un cliente, añadir el teléfono de un nuevo cliente y eliminar el teléfono de un cliente. El listín debe estar guardado en el fichero de texto listin.txt donde el nombre del cliente y su teléfono deben aparecer separados por comas y cada cliente en una línea distinta.\n",
    "\n"
   ]
  },
  {
   "cell_type": "code",
   "execution_count": null,
   "metadata": {
    "id": "WjWZADyrVM6d"
   },
   "outputs": [],
   "source": [
    "import os\n",
    "\n",
    "class Client:\n",
    "    \"\"\"\n",
    "        Clase client que contiene conjunto de características correspondiente a los clientes\n",
    "    \"\"\"\n",
    "    def __init__(self, name:str, phone_number:str, fm) -> None:\n",
    "        pass\n",
    "    \n",
    "    \n",
    "class FileManager:\n",
    "    \"\"\"\n",
    "        Clase para gestionar las operaciones CRUD de un archivo plano\n",
    "    \"\"\"\n",
    "    def __init__(self, path:str) -> None:\n",
    "        pass"
   ]
  },
  {
   "cell_type": "code",
   "execution_count": null,
   "metadata": {},
   "outputs": [],
   "source": [
    "if __name__ == \"__main__\":\n",
    "    \n",
    "    filePath = \"listin.txt\"\n",
    "    fm = FileManager(filePath)\n",
    "    \n",
    "    client1 = Client(name=\"Jennifer Lopez\", phoneNumber=\"+1 (555) 123-4567\", fm=fm)\n",
    "#     client1.add_client()\n",
    "\n",
    "    client2 = Client(name=\"Tom Hanks\", phoneNumber=\"+1 (555) 987-6543\", fm=fm)\n",
    "#     client2.add_client()\n",
    "\n",
    "    client3 = Client(name=\"Beyoncé Knowles\", phoneNumber=\"+1 (555) 876-5432\", fm=fm)\n",
    "#     client3.add_client()\n",
    "\n",
    "    client4 = Client(name=\"Leonardo DiCaprio\", phoneNumber=\"+1 (555) 234-5678\", fm=fm)\n",
    "#     client4.add_client()\n",
    "\n",
    "    client5 = Client(name=\"Angelina Jolie\", phoneNumber=\"+1 (555) 345-6789\", fm=fm)\n",
    "#     client5.add_client()\n",
    "\n",
    "#     [print(client) for client in fm.viewAllClients()]"
   ]
  },
  {
   "cell_type": "markdown",
   "metadata": {
    "id": "nglvDpFO9Xrf"
   },
   "source": [
    "# Ejercicio 3"
   ]
  },
  {
   "cell_type": "markdown",
   "metadata": {
    "id": "cHTx2OApVNBk"
   },
   "source": [
    "El fichero cotizacion.csv contiene las cotizaciones de las empresas del IBEX35 con las siguientes columnas: Nombre (nombre de la empresa), Final (precio de la acción al cierre de bolsa), Máximo (precio máximo de la acción durante la jornada), Mínimo (precio mínimo de la acción durante la jornada), Volumen (Volumen al cierre de bolsa), Efectivo (capitalización al cierre en miles de euros).\n",
    "\n",
    "Construir una función reciba el fichero de cotizaciones y devuelva un diccionario con los datos del fichero por columnas.\n",
    "\n",
    "Construir una función que reciba el diccionario devuelto por la función anterior y cree un fichero en formato csv con el mínimo, el máximo y la media de cada columna.\n",
    "\n"
   ]
  },
  {
   "cell_type": "code",
   "execution_count": null,
   "metadata": {},
   "outputs": [],
   "source": [
    "import csv\n",
    "import json\n",
    "import re"
   ]
  },
  {
   "cell_type": "code",
   "execution_count": null,
   "metadata": {},
   "outputs": [],
   "source": [
    "def read_csv(path:str) -> list:\n",
    "    \"\"\"\n",
    "        Lectura de un archivo con formato CSV, retorna los valores en forma de lista\n",
    "    \"\"\"\n",
    "    pass\n",
    "    \n",
    "    \n",
    "def preprocess(row:str) -> list: \n",
    "    \"\"\"\n",
    "        Preprocesamiento, tratamiento y limpieza de los datos\n",
    "    \"\"\"\n",
    "    pass\n",
    "\n",
    "\n",
    "def mean(values:list) -> float:\n",
    "    \"\"\"\n",
    "        Cálculo de la media de una lista de números\n",
    "    \"\"\"\n",
    "    pass\n",
    "\n",
    "\n",
    "def list_to_dict(data_csv:list) -> dict:\n",
    "    \"\"\"\n",
    "        Convierte una lista en un diccionario\n",
    "    \"\"\"\n",
    "    pass\n",
    "\n",
    "\n",
    "def json_to_csv(data_json:list, path:str) -> None:\n",
    "    \"\"\"\n",
    "        A partir de un arreglo de dirccionario, almacena los valores ne un archivo .csv\n",
    "    \"\"\"\n",
    "    pass"
   ]
  },
  {
   "cell_type": "code",
   "execution_count": null,
   "metadata": {},
   "outputs": [],
   "source": [
    "if __name__ == \"__main__\":\n",
    "    path = \"dataset/cotizacion.csv\"\n",
    "    new_path = \"dataset/nueva_cotizacion.csv\""
   ]
  }
 ],
 "metadata": {
  "colab": {
   "provenance": []
  },
  "kernelspec": {
   "display_name": "Python 3 (ipykernel)",
   "language": "python",
   "name": "python3"
  },
  "language_info": {
   "codemirror_mode": {
    "name": "ipython",
    "version": 3
   },
   "file_extension": ".py",
   "mimetype": "text/x-python",
   "name": "python",
   "nbconvert_exporter": "python",
   "pygments_lexer": "ipython3",
   "version": "3.10.6"
  },
  "vscode": {
   "interpreter": {
    "hash": "31f2aee4e71d21fbe5cf8b01ff0e069b9275f58929596ceb00d14d90e3e16cd6"
   }
  }
 },
 "nbformat": 4,
 "nbformat_minor": 1
}
