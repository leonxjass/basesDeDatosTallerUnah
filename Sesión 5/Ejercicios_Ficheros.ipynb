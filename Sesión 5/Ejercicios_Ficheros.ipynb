{
 "cells": [
  {
   "cell_type": "markdown",
   "metadata": {
    "id": "fb-ysZHW9FJe"
   },
   "source": [
    "## **S5 Ejercicios: Ficheros**"
   ]
  },
  {
   "cell_type": "markdown",
   "metadata": {
    "id": "nglvDpFO9Xrf"
   },
   "source": [
    "# Ejercicio 3"
   ]
  },
  {
   "cell_type": "markdown",
   "metadata": {
    "id": "cHTx2OApVNBk"
   },
   "source": [
    "El fichero cotizacion.csv contiene las cotizaciones de las empresas del IBEX35 con las siguientes columnas: Nombre (nombre de la empresa), Final (precio de la acción al cierre de bolsa), Máximo (precio máximo de la acción durante la jornada), Mínimo (precio mínimo de la acción durante la jornada), Volumen (Volumen al cierre de bolsa), Efectivo (capitalización al cierre en miles de euros).\n",
    "\n",
    "Construir una función reciba el fichero de cotizaciones y devuelva un diccionario con los datos del fichero por columnas.\n",
    "\n",
    "Construir una función que reciba el diccionario devuelto por la función anterior y cree un fichero en formato csv con el mínimo, el máximo y la media de cada columna.\n",
    "\n"
   ]
  },
  {
   "cell_type": "code",
   "execution_count": 3,
   "metadata": {},
   "outputs": [],
   "source": [
    "import csv\n",
    "import json\n",
    "import re"
   ]
  },
  {
   "cell_type": "code",
   "execution_count": 25,
   "metadata": {},
   "outputs": [],
   "source": [
    "def read_csv(path:str) -> list:\n",
    "    \"\"\"\n",
    "        Lectura de un archivo con formato CSV, retorna los valores en forma de lista\n",
    "    \"\"\"\n",
    "    f = open(path)\n",
    "    data = f.readlines()\n",
    "    f.close()\n",
    "    \n",
    "    return data\n",
    "    \n",
    "    \n",
    "def preprocess(row:str) -> list: \n",
    "    \"\"\"\n",
    "        Preprocesamiento, tratamiento y limpieza de los datos\n",
    "    \"\"\"\n",
    "    preprocess = row.replace(\"\\n\", \"\").split(\";\")\n",
    "    new_data = []\n",
    "    \n",
    "    for line in preprocess:\n",
    "        \n",
    "        if re.match(r\"\\d+,\\d+\", line):\n",
    "            new_data.append( float( line.replace(\",\", \".\") ) )\n",
    "        elif re.match(r\"\\d+.\\d+\", line):\n",
    "            new_data.append( int( line.replace(\".\", \"\") ) )\n",
    "        else: \n",
    "            new_data.append(line)\n",
    "            \n",
    "    return new_data\n",
    "\n",
    "\n",
    "def mean(values:list) -> float:\n",
    "    \"\"\"\n",
    "        Cálculo de la media de una lista de números\n",
    "    \"\"\"\n",
    "    return round(sum(values)/len(values), 2)\n",
    "\n",
    "\n",
    "def list_to_dict(data_csv:list) -> dict:\n",
    "    \"\"\"\n",
    "        Convierte una lista en un diccionario\n",
    "    \"\"\"\n",
    "    \n",
    "    new_json = []\n",
    "    \n",
    "    for row in data_csv:\n",
    "        \n",
    "        data = {}\n",
    "        \n",
    "        data[\"minimo\"] = row[3]\n",
    "        data[\"maximo\"] = row[2]\n",
    "        data[\"media\"] = mean([ data[\"minimo\"], data[\"maximo\"] ])\n",
    "        \n",
    "        new_json.append(data)\n",
    "    \n",
    "    return json.dumps(new_json)\n",
    "\n",
    "\n",
    "def json_to_csv(data_json:list, path:str) -> None:\n",
    "    \"\"\"\n",
    "        A partir de un arreglo de dirccionario, almacena los valores ne un archivo .csv\n",
    "    \"\"\"\n",
    "    \n",
    "    f = open(path, mode=\"w\")\n",
    "    writer = csv.writer(f)\n",
    "    writer.writerow([\"Mínimo\", \"Máximo\", \"Media\"])\n",
    "    \n",
    "    data_json = json.loads(data_json)\n",
    "    \n",
    "    for line in data_json:\n",
    "        writer.writerow([ line[\"minimo\"], line[\"maximo\"], line[\"media\"] ])\n",
    "        \n",
    "    f.close()\n",
    "    \n",
    "    return True"
   ]
  },
  {
   "cell_type": "code",
   "execution_count": 26,
   "metadata": {},
   "outputs": [],
   "source": [
    "if __name__ == \"__main__\":\n",
    "    path = \"dataset/cotizacion.csv\"\n",
    "    new_path = \"dataset/nueva_cotizacion.csv\"\n",
    "    \n",
    "    data_csv = [ preprocess(row) for row in read_csv(path)]\n",
    "    data_csv.pop(0)\n",
    "    \n",
    "    data_json = list_to_dict(data_csv)\n",
    "    json_to_csv(data_json, new_path)"
   ]
  },
  {
   "cell_type": "code",
   "execution_count": 18,
   "metadata": {},
   "outputs": [
    {
     "data": {
      "text/plain": [
       "[['ACCIONA', 95.95, 96.75, 94.4, 84962, 8166.11],\n",
       " ['ACERINOX', 8668, 8672, 8468, 88599, 7633.81],\n",
       " ['ACS', 37.28, 37.66, 37.22, 655982, 24517.29],\n",
       " ['AENA', 167.1, 167.5, 166.1, 133738, 22336.1],\n",
       " ['AMADEUS', 69.96, 70.64, 69.56, 640476, 44795.47],\n",
       " ['ARCELORMIT.', 14152, 14318, 14.08, 702841, 9989.65],\n",
       " ['BA.SABADELL', 1.0165, 1033, 1.0165, 12358512, 12637.65],\n",
       " ['BA.SANTANDER', 4.02, 4.0675, 4.01, 36129692, 145765.44],\n",
       " ['BANKIA', 2249, 2262, 2224, 3024454, 6803.54],\n",
       " ['BANKINTER', 6.56, 6604, 6522, 1375976, 9030.2],\n",
       " ['BBVA', 5024, 5.05, 4969, 26447612, 132560.15],\n",
       " ['CAIXABANK', 2763, 2806, 2762, 13031097, 36239.22],\n",
       " ['CELLNEX', 30.17, 30.7, 30.17, 857237, 25965.29],\n",
       " ['CIE AUTOMOT.', 23.44, 23.74, 23.4, 99506, 2343.09],\n",
       " ['ENAGAS', 25.6, 25.66, 25.07, 84254, 21524.77],\n",
       " ['ENCE', 3882, 3974, 3846, 2099698, 8219.83],\n",
       " ['ENDESA', 22.95, 23.03, 22.62, 1236799, 28233.46],\n",
       " ['FERROVIAL', 21.61, 21.72, 21.38, 2065931, 44656.05],\n",
       " ['GRIFOLS CL.A', 23.3, 23.6, 23.27, 719503, 16787.55],\n",
       " ['IAG', 5.3, 5.46, 5292, 2155081, 11561.95],\n",
       " ['IBERDROLA', 8.45, 8.45, 8262, 15637958, 131426.05],\n",
       " ['INDITEX', 24.93, 25.19, 24.87, 2600144, 65012.92],\n",
       " ['INDRA A', 9.56, 9685, 9535, 39206, 3755.57],\n",
       " ['INM.COLONIAL', 9915, 9915, 9745, 671753, 6640.38],\n",
       " ['MAPFRE', 2654, 2654, 2.62, 3045972, 8063.13],\n",
       " ['MEDIASET', 6446, 6592, 6446, 2647557, 17277.04],\n",
       " ['MELIA HOTELS', 8.14, 8.19, 8.02, 48021, 3914.93],\n",
       " ['MERLIN', 12.08, 12.08, 11.83, 777543, 9357.77],\n",
       " ['NATURGY', 26.7, 26.77, 26.53, 2100737, 55986.54],\n",
       " ['R.E.C.', 19705, 19875, 19675, 1246171, 24585.33],\n",
       " ['REPSOL', 14515, 14605, 14.46, 5046648, 73333.78],\n",
       " ['SIEMENS GAME', 14.33, 14.39, 14155, 1054847, 15084.56],\n",
       " ['TEC.REUNIDAS', '23', 23.2, 22.78, 1221, 2807.19],\n",
       " ['TELEFONICA', 7204, 7256, 7185, 9913249, 71564.99],\n",
       " ['VISCOFAN', 48.46, 49.12, 48.46, 6771, 3295.43]]"
      ]
     },
     "execution_count": 18,
     "metadata": {},
     "output_type": "execute_result"
    }
   ],
   "source": [
    "data_csv"
   ]
  },
  {
   "cell_type": "code",
   "execution_count": 20,
   "metadata": {},
   "outputs": [
    {
     "data": {
      "text/plain": [
       "'[{\"minimo\": 94.4, \"maximo\": 96.75, \"media\": 95.58}, {\"minimo\": 8468, \"maximo\": 8672, \"media\": 8570.0}, {\"minimo\": 37.22, \"maximo\": 37.66, \"media\": 37.44}, {\"minimo\": 166.1, \"maximo\": 167.5, \"media\": 166.8}, {\"minimo\": 69.56, \"maximo\": 70.64, \"media\": 70.1}, {\"minimo\": 14.08, \"maximo\": 14318, \"media\": 7166.04}, {\"minimo\": 1.0165, \"maximo\": 1033, \"media\": 517.01}, {\"minimo\": 4.01, \"maximo\": 4.0675, \"media\": 4.04}, {\"minimo\": 2224, \"maximo\": 2262, \"media\": 2243.0}, {\"minimo\": 6522, \"maximo\": 6604, \"media\": 6563.0}, {\"minimo\": 4969, \"maximo\": 5.05, \"media\": 2487.03}, {\"minimo\": 2762, \"maximo\": 2806, \"media\": 2784.0}, {\"minimo\": 30.17, \"maximo\": 30.7, \"media\": 30.44}, {\"minimo\": 23.4, \"maximo\": 23.74, \"media\": 23.57}, {\"minimo\": 25.07, \"maximo\": 25.66, \"media\": 25.37}, {\"minimo\": 3846, \"maximo\": 3974, \"media\": 3910.0}, {\"minimo\": 22.62, \"maximo\": 23.03, \"media\": 22.83}, {\"minimo\": 21.38, \"maximo\": 21.72, \"media\": 21.55}, {\"minimo\": 23.27, \"maximo\": 23.6, \"media\": 23.44}, {\"minimo\": 5292, \"maximo\": 5.46, \"media\": 2648.73}, {\"minimo\": 8262, \"maximo\": 8.45, \"media\": 4135.23}, {\"minimo\": 24.87, \"maximo\": 25.19, \"media\": 25.03}, {\"minimo\": 9535, \"maximo\": 9685, \"media\": 9610.0}, {\"minimo\": 9745, \"maximo\": 9915, \"media\": 9830.0}, {\"minimo\": 2.62, \"maximo\": 2654, \"media\": 1328.31}, {\"minimo\": 6446, \"maximo\": 6592, \"media\": 6519.0}, {\"minimo\": 8.02, \"maximo\": 8.19, \"media\": 8.11}, {\"minimo\": 11.83, \"maximo\": 12.08, \"media\": 11.96}, {\"minimo\": 26.53, \"maximo\": 26.77, \"media\": 26.65}, {\"minimo\": 19675, \"maximo\": 19875, \"media\": 19775.0}, {\"minimo\": 14.46, \"maximo\": 14605, \"media\": 7309.73}, {\"minimo\": 14155, \"maximo\": 14.39, \"media\": 7084.69}, {\"minimo\": 22.78, \"maximo\": 23.2, \"media\": 22.99}, {\"minimo\": 7185, \"maximo\": 7256, \"media\": 7220.5}, {\"minimo\": 48.46, \"maximo\": 49.12, \"media\": 48.79}]'"
      ]
     },
     "execution_count": 20,
     "metadata": {},
     "output_type": "execute_result"
    }
   ],
   "source": [
    "data_json"
   ]
  }
 ],
 "metadata": {
  "colab": {
   "provenance": []
  },
  "kernelspec": {
   "display_name": "Python 3 (ipykernel)",
   "language": "python",
   "name": "python3"
  },
  "language_info": {
   "codemirror_mode": {
    "name": "ipython",
    "version": 3
   },
   "file_extension": ".py",
   "mimetype": "text/x-python",
   "name": "python",
   "nbconvert_exporter": "python",
   "pygments_lexer": "ipython3",
   "version": "3.10.6"
  },
  "vscode": {
   "interpreter": {
    "hash": "31f2aee4e71d21fbe5cf8b01ff0e069b9275f58929596ceb00d14d90e3e16cd6"
   }
  }
 },
 "nbformat": 4,
 "nbformat_minor": 1
}
